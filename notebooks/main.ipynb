{
 "cells": [
  {
   "cell_type": "code",
   "execution_count": null,
   "metadata": {},
   "outputs": [],
   "source": [
    "import pandas as pd\n",
    "import matplotlib.pyplot as plt\n",
    "import seaborn as sns\n",
    "import logging\n",
    "\n",
    "# local python scripts package\n",
    "from utils import cleanup\n",
    "from utils import plots\n",
    "from utils.plots import PlotType\n",
    "\n",
    "# setup logging level\n",
    "logging.getLogger().setLevel(logging.DEBUG)"
   ]
  },
  {
   "cell_type": "code",
   "execution_count": null,
   "metadata": {},
   "outputs": [],
   "source": [
    "# import dataset\n",
    "data = pd.read_csv(\"../dataset/king_country_houses_aa.csv\")\n",
    "df = data.copy()\n",
    "df.head(5)"
   ]
  },
  {
   "cell_type": "code",
   "execution_count": null,
   "metadata": {},
   "outputs": [],
   "source": [
    "# create instance of Auto EDA class\n",
    "eda_utils = cleanup.Auto_EDA(df)"
   ]
  },
  {
   "cell_type": "code",
   "execution_count": null,
   "metadata": {},
   "outputs": [],
   "source": [
    "logging.info(f\"Number of rows before cleanup: {eda_utils.init_rows}\")\n",
    "eda_utils.auto_cleanup()\n",
    "logging.info(f\"Number of rows after cleanup: {eda_utils.count_rows()}\")"
   ]
  },
  {
   "cell_type": "code",
   "execution_count": null,
   "metadata": {},
   "outputs": [],
   "source": [
    "df_nulls = eda_utils.count_nulls()\n",
    "print(df_nulls)"
   ]
  },
  {
   "cell_type": "code",
   "execution_count": null,
   "metadata": {},
   "outputs": [],
   "source": [
    "eda_utils.print_eda_report()"
   ]
  },
  {
   "cell_type": "code",
   "execution_count": null,
   "metadata": {},
   "outputs": [],
   "source": [
    "numerical_cols = eda_utils.get_numerical_columns()"
   ]
  },
  {
   "cell_type": "code",
   "execution_count": null,
   "metadata": {},
   "outputs": [],
   "source": [
    "# initiate a new instance of plots class \n",
    "# set color palette and theme for maximum of colors set to columns count\n",
    "plots = plots.Gryffindor_plots(n_columns=df.shape[1], target_column='price')"
   ]
  },
  {
   "cell_type": "code",
   "execution_count": null,
   "metadata": {},
   "outputs": [],
   "source": [
    "descrete_columns = []\n",
    "descrete_columns.append('price')\n",
    "descrete_columns.append('view')\n",
    "descrete_columns.append('bedrooms')\n",
    "descrete_columns.append('bathrooms')\n",
    "descrete_columns.append('floors')\n",
    "descrete_columns.append('zipcode')\n",
    "descrete_columns.append('yr_built')\n",
    "descrete_columns.append('yr_renovated')\n",
    "print(descrete_columns)"
   ]
  },
  {
   "cell_type": "code",
   "execution_count": null,
   "metadata": {},
   "outputs": [],
   "source": [
    "continuous_columns = []\n",
    "continuous_columns.append('price')\n",
    "continuous_columns.append('sqft_lot')\n",
    "continuous_columns.append('sqft_lot15')\n",
    "continuous_columns.append('sqft_above')\n",
    "continuous_columns.append('sqft_basement')\n",
    "continuous_columns.append('sqft_living')\n",
    "continuous_columns.append('lat')\n",
    "continuous_columns.append('long')\n",
    "print(continuous_columns)"
   ]
  },
  {
   "cell_type": "code",
   "execution_count": null,
   "metadata": {},
   "outputs": [],
   "source": [
    "categorical_columns = []\n",
    "categorical_columns.append('date') # questionable\n",
    "categorical_columns.append('id')\n",
    "categorical_columns.append('waterfront')\n",
    "categorical_columns.append('grade')\n",
    "categorical_columns.append('condition')\n",
    "print(categorical_columns)"
   ]
  },
  {
   "cell_type": "code",
   "execution_count": null,
   "metadata": {},
   "outputs": [],
   "source": [
    "plots.plots_for_columns(df, continuous_columns, PlotType.HISTOGRAM)"
   ]
  },
  {
   "cell_type": "code",
   "execution_count": null,
   "metadata": {},
   "outputs": [],
   "source": [
    "plots.plots_for_columns(df, continuous_columns, PlotType.SCATTER)"
   ]
  }
 ],
 "metadata": {
  "kernelspec": {
   "display_name": "base",
   "language": "python",
   "name": "python3"
  },
  "language_info": {
   "codemirror_mode": {
    "name": "ipython",
    "version": 3
   },
   "file_extension": ".py",
   "mimetype": "text/x-python",
   "name": "python",
   "nbconvert_exporter": "python",
   "pygments_lexer": "ipython3",
   "version": "3.12.7"
  }
 },
 "nbformat": 4,
 "nbformat_minor": 2
}
